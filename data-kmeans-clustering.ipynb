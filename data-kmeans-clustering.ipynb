{
 "cells": [
  {
   "cell_type": "code",
   "execution_count": 1,
   "id": "5c0e1efd",
   "metadata": {},
   "outputs": [],
   "source": [
    "import pandas as pd\n",
    "import numpy as np\n",
    "import matplotlib.pyplot as plt\n",
    "import seaborn as sns"
   ]
  },
  {
   "cell_type": "markdown",
   "id": "48726b88",
   "metadata": {},
   "source": [
    "# K-Means Clustering with Python"
   ]
  },
  {
   "cell_type": "markdown",
   "id": "94fd2d2f",
   "metadata": {},
   "source": [
    "__K-Means Clustering__ is a popular unsupervised machine learning algorithm. K-Means clustering is used to find intrinsic groups within the unlabeled dataset and draw inferences from them. In this kernel, we'll implement K-Means clustering to find intrinsic groups within the dataset that display the same __status_type__ behavior. The __status_type__ behavior variable consists of posts of a different nature (video, photos, statuses and links).  "
   ]
  },
  {
   "cell_type": "markdown",
   "id": "eef25bcb",
   "metadata": {},
   "source": [
    "# Introduction to K-Means Clustering"
   ]
  },
  {
   "cell_type": "markdown",
   "id": "ba0c2a4b",
   "metadata": {},
   "source": [
    "Machine learning algorithms can be broadly classified into two categories - supervised and unsupervised learning. In unsupervised learning, there is no target variable. The dataset only has input variables which describe the data.\n",
    "\n",
    "\n",
    "__K-Means clustering__ is an unsupervised learning algorithm. It's used when we have unlabeled data which is data without defined categories or groups. The algorithm follows an easy or simple way to classify a given data set through a certain number of clusters, fixed apriori. K-Means algorithm works iteratively to assign each data point to one of K groups based on the features that are provided. Data points are clustered based on feature similarity."
   ]
  },
  {
   "cell_type": "markdown",
   "id": "7fdd3f31",
   "metadata": {},
   "source": [
    "## Applications of clustering"
   ]
  },
  {
   "cell_type": "markdown",
   "id": "adb63d74",
   "metadata": {},
   "source": [
    "- K-Means clustering is widely used for many applications which include:\n",
    "\n",
    "    - Image segmentation\n",
    "    - Customer segmentation\n",
    "    - Species clustering\n",
    "    - Anomaly detection\n",
    "    - Clustering languages"
   ]
  },
  {
   "cell_type": "code",
   "execution_count": null,
   "id": "d23c9ea5",
   "metadata": {},
   "outputs": [],
   "source": []
  }
 ],
 "metadata": {
  "kernelspec": {
   "display_name": "Python 3 (ipykernel)",
   "language": "python",
   "name": "python3"
  },
  "language_info": {
   "codemirror_mode": {
    "name": "ipython",
    "version": 3
   },
   "file_extension": ".py",
   "mimetype": "text/x-python",
   "name": "python",
   "nbconvert_exporter": "python",
   "pygments_lexer": "ipython3",
   "version": "3.10.6"
  },
  "toc": {
   "base_numbering": 1,
   "nav_menu": {},
   "number_sections": true,
   "sideBar": true,
   "skip_h1_title": false,
   "title_cell": "Table of Contents",
   "title_sidebar": "Contents",
   "toc_cell": false,
   "toc_position": {},
   "toc_section_display": true,
   "toc_window_display": false
  }
 },
 "nbformat": 4,
 "nbformat_minor": 5
}
